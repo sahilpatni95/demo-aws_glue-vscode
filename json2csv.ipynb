{
  "nbformat": 4,
  "nbformat_minor": 0,
  "metadata": {
    "colab": {
      "provenance": [],
      "authorship_tag": "ABX9TyPTIvzMSTk7mmnPL655w+yR",
      "include_colab_link": true
    },
    "kernelspec": {
      "name": "python3",
      "display_name": "Python 3"
    },
    "language_info": {
      "name": "python"
    }
  },
  "cells": [
    {
      "cell_type": "markdown",
      "metadata": {
        "id": "view-in-github",
        "colab_type": "text"
      },
      "source": [
        "<a href=\"https://colab.research.google.com/github/sahilpatni95/demo-aws_glue-vscode/blob/main/json2csv.ipynb\" target=\"_parent\"><img src=\"https://colab.research.google.com/assets/colab-badge.svg\" alt=\"Open In Colab\"/></a>"
      ]
    },
    {
      "cell_type": "code",
      "source": [
        "from pyspark.sql import SparkSession\n",
        "from pyspark.sql.types import StructType,StructField, StringType, IntegerType,BooleanType,DoubleType\n",
        " \n",
        "spark = SparkSession.builder.appName('Test').getOrCreate()\n"
      ],
      "metadata": {
        "id": "Mglesj_0t7DS"
      },
      "execution_count": 5,
      "outputs": []
    },
    {
      "cell_type": "code",
      "source": [
        " # Read JSON file into dataframe    \n",
        "df = spark.read.option(\"multiline\",\"true\") \\\n",
        "    .json(\"/content/json_data.json\")\n",
        "df.printSchema()"
      ],
      "metadata": {
        "colab": {
          "base_uri": "https://localhost:8080/"
        },
        "id": "DXbd3gE7u35-",
        "outputId": "f31d6b76-36fe-41d4-8023-cd34962bfef4"
      },
      "execution_count": 13,
      "outputs": [
        {
          "output_type": "stream",
          "name": "stdout",
          "text": [
            "root\n",
            " |-- about: string (nullable = true)\n",
            " |-- company_name: string (nullable = true)\n",
            " |-- employees: string (nullable = true)\n",
            " |-- headline: string (nullable = true)\n",
            " |-- id: long (nullable = true)\n",
            " |-- industries: array (nullable = true)\n",
            " |    |-- element: string (containsNull = true)\n",
            " |-- jobs: struct (nullable = true)\n",
            " |    |-- Designer: long (nullable = true)\n",
            " |    |-- Engineering: long (nullable = true)\n",
            " |    |-- Founder: long (nullable = true)\n",
            " |    |-- Investor: long (nullable = true)\n",
            " |    |-- Management: long (nullable = true)\n",
            " |    |-- Marketing: long (nullable = true)\n",
            " |    |-- Operations: long (nullable = true)\n",
            " |    |-- Other Engineering: long (nullable = true)\n",
            " |    |-- Product: long (nullable = true)\n",
            " |    |-- Sales: long (nullable = true)\n",
            " |-- locations: array (nullable = true)\n",
            " |    |-- element: string (containsNull = true)\n",
            " |-- logo_url: string (nullable = true)\n",
            " |-- tags: array (nullable = true)\n",
            " |    |-- element: string (containsNull = true)\n",
            " |-- website: string (nullable = true)\n",
            "\n"
          ]
        }
      ]
    },
    {
      "cell_type": "code",
      "source": [
        "df.show()"
      ],
      "metadata": {
        "colab": {
          "base_uri": "https://localhost:8080/"
        },
        "id": "BRssEEWPvEM-",
        "outputId": "20cf9f45-6dbe-408d-8f1c-e39833c7d6e7"
      },
      "execution_count": 15,
      "outputs": [
        {
          "output_type": "stream",
          "name": "stdout",
          "text": [
            "+--------------------+-------------------+---------+--------------------+---+--------------------+--------------------+--------------------+--------+--------------------+--------------------+\n",
            "|               about|       company_name|employees|            headline| id|          industries|                jobs|           locations|logo_url|                tags|             website|\n",
            "+--------------------+-------------------+---------+--------------------+---+--------------------+--------------------+--------------------+--------+--------------------+--------------------+\n",
            "|The software used...|   Forward Networks|    11-50|Network automatio...|  1|[Enterprise Softw...|{null, 7, 2, 1, n...|         [Palo Alto]|    null|[Actively Hiring,...|http://www.forwar...|\n",
            "|Current banking s...|               Wise|1001-5000|We're on a missio...|  2|[Financial Servic...|{13, 103, 117, 18...|[New York City, S...|    null|[Actively Hiring,...|    https://wise.com|\n",
            "|Benchling makes l...|          Benchling|  201-500|Informatics platf...|  3|[Biotechnology, L...|{1, 13, 7, 10, nu...|[Boston, San Fran...|    null|[Actively Hiring,...|http://www.benchl...|\n",
            "|Tulip, the Frontl...|   Tulip Interfaces|   51-200|The Leader in Fro...|  4|[Enterprise Softw...|{null, 13, 16, 2,...|[Boston, Munich, ...|    null|[Actively Hiring,...|    https://tulip.co|\n",
            "|Four billion peop...|           Astranis|   51-200|Building next-gen...|  5|[Internet, Teleco...|{null, 9, 3, 21, ...|     [San Francisco]|    null|[Actively Hiring,...|http://www.astran...|\n",
            "|Founded in 2015, ...|           Smartcar|    11-50|The car API for d...|  6|[Automotive, Deve...|{1, 5, 2, 1, null...|[California, Texa...|    null|[Actively Hiring,...|https://smartcar.com|\n",
            "|Dataiku is the pl...|            Dataiku|1001-5000|Everyday AI, Extr...|  7|[Enterprise Softw...|{2, 48, 15, 11, n...|[Denver, Dubai, N...|    null|[Actively Hiring,...|http://www.dataik...|\n",
            "|Ro puts you in co...|                 Ro|   51-200|We are Ro, a miss...|  8|[Healthcare, Fitn...|{2, 5, 5, 11, nul...|[New York City, N...|    null|[Actively Hiring,...|  https://www.ro.co/|\n",
            "|We're developing ...|          DataGrail|   51-200|We believe in a w...|  9|[Enterprise Softw...|{1, 1, 2, null, n...|     [San Francisco]|    null|[Actively Hiring,...| http://datagrail.io|\n",
            "|Earnin’s mission ...|             Earnin|   51-200|We're fighting un...| 10|[Financial Servic...|{1, 29, 5, 3, nul...|[Palo Alto, Lovel...|    null|[Actively Hiring,...|https://www.earni...|\n",
            "|We build best-in-...|  Pantheon Platform|   51-200|Provides website ...| 11|[Internet, SaaS, ...|{null, 6, 1, 3, n...|     [San Francisco]|    null|[Actively Hiring,...|https://pantheon.io/|\n",
            "|MadKudu helps B2B...|            MadKudu|    11-50|The PLG platform ...| 12|[SaaS, B2B, Lead ...|{null, 3, 1, 1, n...|[Mountain View, P...|    null|[Actively Hiring,...|http://www.madkud...|\n",
            "|Common is the nat...|             Common|   51-200|City living made ...| 13|[Real Estate, Com...|{null, null, 3, 2...|     [New York City]|    null|[Actively Hiring,...|https://www.commo...|\n",
            "|Through the devel...|   Platform Science|   51-200|Delivering the be...| 14|[SaaS, Transporta...|{null, 10, 1, 5, ...|[San Diego, La Jo...|    null|[Actively Hiring,...|https://www.platf...|\n",
            "|Modernizing the h...|Canary Technologies|    11-50|Easy, intuitive, ...| 15|[SaaS, Enterprise...|{2, 3, 6, null, n...|[San Francisco, N...|    null|[Actively Hiring,...|https://www.canar...|\n",
            "|Tessian is a lead...|            Tessian|  201-500|Tessian is a lead...| 16|[SaaS, Enterprise...|{null, 6, 1, 3, 1...|[Austin, Boston, ...|    null|[Actively Hiring,...|http://www.tessia...|\n",
            "|We’re a market-le...|          OneSignal|   51-200|Self-serve custom...| 17|[Mobile, Enterpri...|{1, 5, 1, null, n...|[California, New ...|    null|[Actively Hiring,...|https://onesignal...|\n",
            "|Dashlane's missio...|           Dashlane|  201-500|Make security sim...| 18|[Cloud Computing,...|{1, 2, null, 1, n...|[New York City, P...|    null|[Actively Hiring,...|http://www.dashla...|\n",
            "|It was 2013 when ...|               Hiro|    11-50|Building develope...| 19|[Internet, Cloud ...|{1, 5, null, 1, n...|[New York City, N...|    null|[Actively Hiring,...|https://www.hiro.so/|\n",
            "|Named #519 on Inc...|            Securly|  201-500|Your school’s all...| 20|[SaaS, Enterprise...|{null, 1, null, n...|[United States, S...|    null|[Actively Hiring,...|  http://securly.com|\n",
            "+--------------------+-------------------+---------+--------------------+---+--------------------+--------------------+--------------------+--------+--------------------+--------------------+\n",
            "only showing top 20 rows\n",
            "\n"
          ]
        }
      ]
    },
    {
      "cell_type": "code",
      "source": [
        "df1 = df.select(df[\"company_name\"], df[\"employees\"], df[\"website\"])\n",
        "\n",
        "df1.show(truncate=False)"
      ],
      "metadata": {
        "colab": {
          "base_uri": "https://localhost:8080/"
        },
        "id": "KQLSr4N41h5x",
        "outputId": "8420ca1b-8343-49a1-c85d-361d5070d753"
      },
      "execution_count": 33,
      "outputs": [
        {
          "output_type": "stream",
          "name": "stdout",
          "text": [
            "+-------------------+---------+-----------------------------------+\n",
            "|company_name       |employees|website                            |\n",
            "+-------------------+---------+-----------------------------------+\n",
            "|Forward Networks   |11-50    |http://www.forwardnetworks.com/    |\n",
            "|Wise               |1001-5000|https://wise.com                   |\n",
            "|Benchling          |201-500  |http://www.benchling.com           |\n",
            "|Tulip Interfaces   |51-200   |https://tulip.co                   |\n",
            "|Astranis           |51-200   |http://www.astranis.com/           |\n",
            "|Smartcar           |11-50    |https://smartcar.com               |\n",
            "|Dataiku            |1001-5000|http://www.dataiku.com/            |\n",
            "|Ro                 |51-200   |https://www.ro.co/                 |\n",
            "|DataGrail          |51-200   |http://datagrail.io                |\n",
            "|Earnin             |51-200   |https://www.earnin.com             |\n",
            "|Pantheon Platform  |51-200   |https://pantheon.io/               |\n",
            "|MadKudu            |11-50    |http://www.madkudu.com             |\n",
            "|Common             |51-200   |https://www.common.com/            |\n",
            "|Platform Science   |51-200   |https://www.platformscience.com/   |\n",
            "|Canary Technologies|11-50    |https://www.canarytechnologies.com/|\n",
            "|Tessian            |201-500  |http://www.tessian.com/            |\n",
            "|OneSignal          |51-200   |https://onesignal.com/             |\n",
            "|Dashlane           |201-500  |http://www.dashlane.com            |\n",
            "|Hiro               |11-50    |https://www.hiro.so/               |\n",
            "|Securly            |201-500  |http://securly.com                 |\n",
            "+-------------------+---------+-----------------------------------+\n",
            "only showing top 20 rows\n",
            "\n"
          ]
        }
      ]
    },
    {
      "cell_type": "code",
      "source": [
        "company = df1.withColumnRenamed(\"company_name\",\"Company_Name\") \\\n",
        "    .withColumnRenamed(\"employees\",\"No_of_Employees\") \\\n",
        "    .withColumnRenamed(\"website\",\"Website\")\n",
        "company.show()"
      ],
      "metadata": {
        "colab": {
          "base_uri": "https://localhost:8080/"
        },
        "id": "pUZBn53j2slv",
        "outputId": "037acdce-e9ae-4e6c-b02b-d1e1cd5a0b26"
      },
      "execution_count": 34,
      "outputs": [
        {
          "output_type": "stream",
          "name": "stdout",
          "text": [
            "+-------------------+---------------+--------------------+\n",
            "|       Company_Name|No_of_Employees|             Website|\n",
            "+-------------------+---------------+--------------------+\n",
            "|   Forward Networks|          11-50|http://www.forwar...|\n",
            "|               Wise|      1001-5000|    https://wise.com|\n",
            "|          Benchling|        201-500|http://www.benchl...|\n",
            "|   Tulip Interfaces|         51-200|    https://tulip.co|\n",
            "|           Astranis|         51-200|http://www.astran...|\n",
            "|           Smartcar|          11-50|https://smartcar.com|\n",
            "|            Dataiku|      1001-5000|http://www.dataik...|\n",
            "|                 Ro|         51-200|  https://www.ro.co/|\n",
            "|          DataGrail|         51-200| http://datagrail.io|\n",
            "|             Earnin|         51-200|https://www.earni...|\n",
            "|  Pantheon Platform|         51-200|https://pantheon.io/|\n",
            "|            MadKudu|          11-50|http://www.madkud...|\n",
            "|             Common|         51-200|https://www.commo...|\n",
            "|   Platform Science|         51-200|https://www.platf...|\n",
            "|Canary Technologies|          11-50|https://www.canar...|\n",
            "|            Tessian|        201-500|http://www.tessia...|\n",
            "|          OneSignal|         51-200|https://onesignal...|\n",
            "|           Dashlane|        201-500|http://www.dashla...|\n",
            "|               Hiro|          11-50|https://www.hiro.so/|\n",
            "|            Securly|        201-500|  http://securly.com|\n",
            "+-------------------+---------------+--------------------+\n",
            "only showing top 20 rows\n",
            "\n"
          ]
        }
      ]
    },
    {
      "cell_type": "code",
      "source": [],
      "metadata": {
        "id": "MOd5Hj3A5Oh2"
      },
      "execution_count": null,
      "outputs": []
    }
  ]
}